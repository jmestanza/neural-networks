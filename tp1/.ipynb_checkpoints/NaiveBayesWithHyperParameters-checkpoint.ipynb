{
 "cells": [
  {
   "cell_type": "markdown",
   "metadata": {
    "colab_type": "text",
    "id": "1rwV9QH_S29Y"
   },
   "source": [
    "# Ejercicio de multinomialNB\n",
    "\n",
    "En el caso anterior, para medir la cantidad de artículos clasiicados correctamente se utilizó el mismo subconjunto del dataset que se utilizó para entrenar.\n",
    "\n",
    "Esta medida no es una medida del todo útil, ya que lo que interesa de un clasificador es su capacidad de clasificación de datos que no fueron utilizados para entrenar. Es por eso que se pide, para el clasificador entrenado con el subconjunto de training, cual es el porcentaje de artículos del subconjunto de testing clasificados correctamente. Comparar con el porcentaje anterior y explicar las diferencias.\n",
    "\n",
    "Para este ejercicio se puede utilizar el paquete multinomialNB que se encuentra dentro de naive-bayes en el paquete sklearn.\n",
    "\n",
    "** Importante: para aplicar count vectorizer al dataset de testing sin redefinir el vocabulario, se debe usar el método transform, ya que fit y fit_transform recalculan el vocabulario. **\n",
    "\n",
    "Se puede encontrar mas información del dataset en:\n",
    "\n",
    "http://scikit-learn.org/stable/datasets/twenty_newsgroups.html#newsgroups"
   ]
  },
  {
   "cell_type": "markdown",
   "metadata": {
    "colab_type": "text",
    "id": "s5AFvPlfS6OO"
   },
   "source": [
    "# Solución"
   ]
  },
  {
   "cell_type": "code",
   "execution_count": 27,
   "metadata": {
    "colab": {},
    "colab_type": "code",
    "id": "mIvOl9vCU9uC"
   },
   "outputs": [
    {
     "name": "stdout",
     "output_type": "stream",
     "text": [
      "11314\n"
     ]
    }
   ],
   "source": [
    "import numpy as np\n",
    "import pickle\n",
    "from sklearn.datasets import fetch_20newsgroups\n",
    "twenty_train = fetch_20newsgroups(subset='train', shuffle=True)\n",
    "articulos_filtrados = []\n",
    "with open ('art_filt.txt', 'rb') as fp:\n",
    "    articulos_filtrados = pickle.load(fp)\n",
    "    \n",
    "\n",
    "div = int(len(articulos_filtrados)*0.9)\n",
    "\n",
    "train = articulos_filtrados[:div]\n",
    "test = articulos_filtrados[div:]\n",
    "\n",
    "len(articulos_filtrados) # chequeamos que articulos filtrados y train+test tengan mismo numero de elementos\n",
    "print(len(train)+len(test))\n",
    "\n",
    "from sklearn.feature_extraction.text import CountVectorizer\n",
    "count_vect = CountVectorizer(max_df=0.8,min_df=100)\n",
    "X_train_data= count_vect.fit_transform(train) #Aprende el vocabulario y le asigna un código a cada palabra\n",
    "X_test_data = count_vect.transform(test)"
   ]
  },
  {
   "cell_type": "code",
   "execution_count": 28,
   "metadata": {},
   "outputs": [
    {
     "name": "stdout",
     "output_type": "stream",
     "text": [
      "75.08833922261485\n"
     ]
    }
   ],
   "source": [
    "from sklearn.naive_bayes import MultinomialNB\n",
    "clf = MultinomialNB(alpha = 10)\n",
    "clf.fit(X_train_data.toarray(), twenty_train[\"target\"][:div])\n",
    "\n",
    "predict = np.array(clf.predict(X_test_data))\n",
    "porc=sum(predict==np.array(twenty_train[\"target\"][div:]))/len(test)\n",
    "print(porc*100)"
   ]
  },
  {
   "cell_type": "code",
   "execution_count": 167,
   "metadata": {},
   "outputs": [
    {
     "data": {
      "text/plain": [
       "[<matplotlib.lines.Line2D at 0x1a70995ee10>]"
      ]
     },
     "execution_count": 167,
     "metadata": {},
     "output_type": "execute_result"
    },
    {
     "data": {
      "image/png": "[encoded data removed]",
      "text/plain": [
       "<Figure size 432x288 with 1 Axes>"
      ]
     },
     "metadata": {
      "needs_background": "light"
     },
     "output_type": "display_data"
    }
   ],
   "source": [
    "import matplotlib.pyplot as plt\n",
    "porc_values = []\n",
    "alpha_values = []\n",
    "for i in range(10):\n",
    "    actual_alpha = i + 0.5\n",
    "    clf = MultinomialNB(alpha = actual_alpha)\n",
    "    alpha_values.append(actual_alpha)\n",
    "    clf.fit(X_train_data.toarray(), twenty_train[\"target\"][:div])\n",
    "    predict = np.array(clf.predict(X_test_data))\n",
    "    porc=sum(predict==np.array(twenty_train[\"target\"][div:]))/len(test)\n",
    "    porc_values.append(porc*100)\n",
    "plt.plot(alpha_values,porc_values)"
   ]
  },
  {
   "cell_type": "markdown",
   "metadata": {},
   "source": [
    "# Articulos tokenizados"
   ]
  },
  {
   "cell_type": "code",
   "execution_count": 50,
   "metadata": {},
   "outputs": [],
   "source": [
    "def get_list_of_strings(filename):\n",
    "    tokenized = []\n",
    "    with open (filename+'.txt', 'rb') as fp:\n",
    "        tokenized = pickle.load(fp)\n",
    "    tokenized_str = []\n",
    "    for i,art in enumerate(tokenized):\n",
    "        tokenized_str.append(\" \".join(tokenized[i]))\n",
    "    return tokenized_str\n",
    "\n",
    "def run_simulation(articulos_filtrados, train_percent, max_df_, min_df_, alpha_):\n",
    "    twenty_train = fetch_20newsgroups(subset='train', shuffle=True)\n",
    "    div = int(len(articulos_filtrados)*train_percent)\n",
    "    train = articulos_filtrados[:div]\n",
    "    test = articulos_filtrados[div:]\n",
    "    count_vect = CountVectorizer(max_df=max_df_,min_df=min_df_)\n",
    "    X_train_data= count_vect.fit_transform(train) #Aprende el vocabulario y le asigna un código a cada palabra\n",
    "    X_test_data = count_vect.transform(test)\n",
    "    clf = MultinomialNB(alpha = alpha_)\n",
    "    clf.fit(X_train_data.toarray(), twenty_train[\"target\"][:div])\n",
    "    predict = np.array(clf.predict(X_test_data))\n",
    "    porc=sum(predict==np.array(twenty_train[\"target\"][div:]))/len(test)\n",
    "    print(porc*100)"
   ]
  },
  {
   "cell_type": "code",
   "execution_count": 58,
   "metadata": {},
   "outputs": [
    {
     "name": "stdout",
     "output_type": "stream",
     "text": [
      "74.64664310954063\n",
      "From : lerxst @ wam.umd.edu ( where 's my thing ) Subject : WHAT car is this ! ? Nntp-Posting-Host : rac3.wam.umd.edu Organization : University of Maryland , College Park Lines : 15 I was wondering if anyone out there could enlighten me on this car I saw the other day . It was a 2-door sports car , looked to be from the late 60s/ early 70s . It was called a Bricklin . The doors were really small . In addition , the front bumper was separate from the rest of the body . This is all I know . If anyone can tellme a model name , engine specs , years of production , where this car is made , history , or whatever info you have on this funky looking car , please e-mail . Thanks , - IL -- -- brought to you by your neighborhood Lerxst -- --\n"
     ]
    }
   ],
   "source": [
    "tok = get_list_of_strings('art_tokenized')\n",
    "run_simulation(tok, 0.9, 0.8, 100, 10)\n",
    "print(tok[0])"
   ]
  },
  {
   "cell_type": "code",
   "execution_count": 59,
   "metadata": {},
   "outputs": [
    {
     "name": "stdout",
     "output_type": "stream",
     "text": [
      "From : guykuo @ carson.u.washington.edu ( Guy Kuo ) Subject : SI Clock Poll - Final Call Summary : Final call for SI clock reports Keywords : SI , acceleration , clock , upgrade Article-I.D . : shelley.1qvfo9INNc3s Organization : University of Washington Lines : 11 NNTP-Posting-Host : carson.u.washington.edu A fair number of brave souls who upgraded their SI clock oscillator have shared their experiences for this poll . Please send a brief message detailing your experiences with the procedure . Top speed attained , CPU rated speed , add on cards and adapters , heat sinks , hour of usage per day , floppy disk functionality with 800 and 1.4 m floppies are especially requested . I will be summarizing in the next two days , so please add to the network knowledge base if you have done the clock upgrade and have n't answered this poll . Thanks . Guy Kuo < guykuo @ u.washington.edu >\n"
     ]
    }
   ],
   "source": [
    "print(tok[1])"
   ]
  },
  {
   "cell_type": "code",
   "execution_count": 53,
   "metadata": {},
   "outputs": [
    {
     "name": "stdout",
     "output_type": "stream",
     "text": [
      "75.35335689045937\n"
     ]
    }
   ],
   "source": [
    "tok = get_list_of_strings('art_tok_lem')\n",
    "run_simulation(tok, 0.9, 0.8, 100, 10)"
   ]
  },
  {
   "cell_type": "code",
   "execution_count": 54,
   "metadata": {},
   "outputs": [
    {
     "name": "stdout",
     "output_type": "stream",
     "text": [
      "76.67844522968198\n"
     ]
    }
   ],
   "source": [
    "tok = get_list_of_strings('art_tok_lem_stop')\n",
    "run_simulation(tok, 0.9, 0.8, 100, 10)"
   ]
  },
  {
   "cell_type": "code",
   "execution_count": 56,
   "metadata": {},
   "outputs": [
    {
     "name": "stdout",
     "output_type": "stream",
     "text": [
      "75.08833922261485\n"
     ]
    }
   ],
   "source": [
    "tok = []\n",
    "with open ('art_tok_lem_stop_stem_alpha.txt', 'rb') as fp:\n",
    "    tok = pickle.load(fp)\n",
    "run_simulation(tok, 0.9, 0.8, 100, 10)"
   ]
  },
  {
   "cell_type": "code",
   "execution_count": null,
   "metadata": {},
   "outputs": [],
   "source": []
  }
 ],
 "metadata": {
  "colab": {
   "name": "Naive Bayes para TNG.ipynb",
   "provenance": [],
   "version": "0.3.2"
  },
  "kernelspec": {
   "display_name": "redes2 (py 3.6)",
   "language": "python",
   "name": "redes2"
  },
  "language_info": {
   "codemirror_mode": {
    "name": "ipython",
    "version": 3
   },
   "file_extension": ".py",
   "mimetype": "text/x-python",
   "name": "python",
   "nbconvert_exporter": "python",
   "pygments_lexer": "ipython3",
   "version": "3.6.10"
  }
 },
 "nbformat": 4,
 "nbformat_minor": 4
}
