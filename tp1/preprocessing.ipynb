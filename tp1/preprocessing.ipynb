{
 "cells": [
  {
   "cell_type": "markdown",
   "metadata": {
    "colab_type": "text",
    "id": "1rwV9QH_S29Y"
   },
   "source": [
    "# Preprocessing articles\n",
    "* Lemmatization (nltk)\n",
    "* Stop Words (nltk)\n",
    "* Stemming (nltk)\n",
    "http://scikit-learn.org/stable/datasets/twenty_newsgroups.html#newsgroups"
   ]
  },
  {
   "cell_type": "code",
   "execution_count": 4,
   "metadata": {},
   "outputs": [
    {
     "name": "stderr",
     "output_type": "stream",
     "text": [
      "[nltk_data] Downloading package wordnet to\n",
      "[nltk_data]     C:\\Users\\joa-m\\AppData\\Roaming\\nltk_data...\n",
      "[nltk_data]   Package wordnet is already up-to-date!\n",
      "[nltk_data] Downloading package punkt to\n",
      "[nltk_data]     C:\\Users\\joa-m\\AppData\\Roaming\\nltk_data...\n",
      "[nltk_data]   Package punkt is already up-to-date!\n",
      "[nltk_data] Downloading package stopwords to\n",
      "[nltk_data]     C:\\Users\\joa-m\\AppData\\Roaming\\nltk_data...\n",
      "[nltk_data]   Package stopwords is already up-to-date!\n"
     ]
    }
   ],
   "source": [
    "from sklearn.datasets import fetch_20newsgroups\n",
    "import nltk\n",
    "from nltk.tokenize import word_tokenize\n",
    "from nltk.stem import PorterStemmer, WordNetLemmatizer\n",
    "from nltk.corpus import stopwords\n",
    "\n",
    "import pickle\n",
    "\n",
    "#Loading the data set - training data.\n",
    "twenty_train = fetch_20newsgroups(subset='train', shuffle=True)\n",
    "\n",
    "nltk.download('wordnet')\n",
    "nltk.download('punkt')\n",
    "nltk.download('stopwords')\n",
    "\n",
    "lemmatizer = WordNetLemmatizer()\n",
    "stemmer = PorterStemmer()"
   ]
  },
  {
   "cell_type": "code",
   "execution_count": 5,
   "metadata": {},
   "outputs": [
    {
     "name": "stdout",
     "output_type": "stream",
     "text": [
      " Procesados: 11300"
     ]
    }
   ],
   "source": [
    "art_tokenized = []\n",
    "for idx in range(len(twenty_train.data)):\n",
    "    if idx%100==0:\n",
    "        print(\"\\r Procesados: {}\".format(idx),end=\"\")\n",
    "    art=twenty_train.data[idx]\n",
    "    art_tokenized.append(word_tokenize(art))\n",
    "    \n",
    "with open('art_tokenized.txt', 'wb') as fp:\n",
    "    pickle.dump(art_tokenized, fp)"
   ]
  },
  {
   "cell_type": "code",
   "execution_count": 6,
   "metadata": {},
   "outputs": [
    {
     "name": "stdout",
     "output_type": "stream",
     "text": [
      " Procesados: 11300"
     ]
    }
   ],
   "source": [
    "art_tok_lem = list()\n",
    "for idx in range(len(twenty_train.data)):\n",
    "    if idx%100==0:\n",
    "        print(\"\\r Procesados: {}\".format(idx),end=\"\")\n",
    "    tok = art_tokenized[idx]\n",
    "    lem=[lemmatizer.lemmatize(x,pos='v') for x in tok]\n",
    "    art_tok_lem.append(lem)\n",
    "\n",
    "with open('art_tok_lem.txt', 'wb') as fp:\n",
    "    pickle.dump(art_tok_lem, fp)"
   ]
  },
  {
   "cell_type": "code",
   "execution_count": 7,
   "metadata": {},
   "outputs": [
    {
     "name": "stdout",
     "output_type": "stream",
     "text": [
      " Procesados: 11300"
     ]
    }
   ],
   "source": [
    "art_tok_lem_stop=list()\n",
    "for idx in range(len(twenty_train.data)):\n",
    "    if idx%100==0:\n",
    "        print(\"\\r Procesados: {}\".format(idx),end=\"\")\n",
    "    lem = art_tok_lem[idx]\n",
    "    stop = [x for x in lem if x not in stopwords.words('english')]\n",
    "    art_tok_lem_stop.append(stop)\n",
    "\n",
    "with open('art_tok_lem_stop.txt', 'wb') as fp:\n",
    "    pickle.dump(art_tok_lem_stop, fp)"
   ]
  },
  {
   "cell_type": "code",
   "execution_count": 9,
   "metadata": {},
   "outputs": [
    {
     "name": "stdout",
     "output_type": "stream",
     "text": [
      " Procesados: 11300"
     ]
    }
   ],
   "source": [
    "art_tok_lem_stop_stem=list()\n",
    "for idx in range(len(twenty_train.data)):\n",
    "    if idx%100==0:\n",
    "        print(\"\\r Procesados: {}\".format(idx),end=\"\")\n",
    "    stop = art_tok_lem_stop[idx]\n",
    "    stem = [stemmer.stem(x) for x in stop]\n",
    "    art_tok_lem_stop_stem.append(stem)\n",
    "\n",
    "#Salvado del procesamiento a disco:\n",
    "import pickle\n",
    "with open('art_tok_lem_stop_stem.txt', 'wb') as fp:\n",
    "    pickle.dump(art_tok_lem_stop_stem, fp)"
   ]
  },
  {
   "cell_type": "code",
   "execution_count": 10,
   "metadata": {},
   "outputs": [
    {
     "name": "stdout",
     "output_type": "stream",
     "text": [
      " Procesados: 11300"
     ]
    }
   ],
   "source": [
    "art_tok_lem_stop_stem_alpha=list()\n",
    "for idx in range(len(twenty_train.data)):\n",
    "    if idx%100==0:\n",
    "        print(\"\\r Procesados: {}\".format(idx),end=\"\")\n",
    "    stem = art_tok_alpha_lem_stop_stem[idx]\n",
    "    alpha = [x for x in stem if x.isalpha()]\n",
    "    art_tok_lem_stop_stem_alpha.append(\" \".join(alpha))\n",
    "\n",
    "with open('art_tok_lem_stop_stem_alpha.txt', 'wb') as fp:\n",
    "    pickle.dump(art_tok_lem_stop_stem_alpha, fp)"
   ]
  },
  {
   "cell_type": "code",
   "execution_count": null,
   "metadata": {},
   "outputs": [],
   "source": []
  }
 ],
 "metadata": {
  "colab": {
   "name": "Naive Bayes para TNG.ipynb",
   "provenance": [],
   "version": "0.3.2"
  },
  "kernelspec": {
   "display_name": "redes2 (py 3.6)",
   "language": "python",
   "name": "redes2"
  },
  "language_info": {
   "codemirror_mode": {
    "name": "ipython",
    "version": 3
   },
   "file_extension": ".py",
   "mimetype": "text/x-python",
   "name": "python",
   "nbconvert_exporter": "python",
   "pygments_lexer": "ipython3",
   "version": "3.6.10"
  }
 },
 "nbformat": 4,
 "nbformat_minor": 4
}
