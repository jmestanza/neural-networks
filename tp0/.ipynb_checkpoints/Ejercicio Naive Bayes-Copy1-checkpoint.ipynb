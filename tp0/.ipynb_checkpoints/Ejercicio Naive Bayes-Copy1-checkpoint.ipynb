{
 "cells": [
  {
   "cell_type": "markdown",
   "metadata": {
    "colab_type": "text",
    "id": "4XI-bramQQLk"
   },
   "source": [
    "# Spam and ham detection\n"
   ]
  },
  {
   "cell_type": "markdown",
   "metadata": {
    "colab_type": "text",
    "id": "u65YieUTEgR3"
   },
   "source": [
    "Cargamos los datos a un pandas data frame"
   ]
  },
  {
   "cell_type": "code",
   "execution_count": 148,
   "metadata": {
    "colab": {},
    "colab_type": "code",
    "id": "eEd5X8AWNRlP"
   },
   "outputs": [
    {
     "data": {
      "text/html": [
       "<div>\n",
       "<style scoped>\n",
       "    .dataframe tbody tr th:only-of-type {\n",
       "        vertical-align: middle;\n",
       "    }\n",
       "\n",
       "    .dataframe tbody tr th {\n",
       "        vertical-align: top;\n",
       "    }\n",
       "\n",
       "    .dataframe thead th {\n",
       "        text-align: right;\n",
       "    }\n",
       "</style>\n",
       "<table border=\"1\" class=\"dataframe\">\n",
       "  <thead>\n",
       "    <tr style=\"text-align: right;\">\n",
       "      <th></th>\n",
       "      <th>alargue</th>\n",
       "      <th>automóvil</th>\n",
       "      <th>casa</th>\n",
       "      <th>novedoso</th>\n",
       "      <th>categoria</th>\n",
       "    </tr>\n",
       "  </thead>\n",
       "  <tbody>\n",
       "    <tr>\n",
       "      <th>0</th>\n",
       "      <td>3</td>\n",
       "      <td>3</td>\n",
       "      <td>1</td>\n",
       "      <td>6</td>\n",
       "      <td>1</td>\n",
       "    </tr>\n",
       "    <tr>\n",
       "      <th>1</th>\n",
       "      <td>1</td>\n",
       "      <td>4</td>\n",
       "      <td>7</td>\n",
       "      <td>1</td>\n",
       "      <td>0</td>\n",
       "    </tr>\n",
       "    <tr>\n",
       "      <th>2</th>\n",
       "      <td>1</td>\n",
       "      <td>4</td>\n",
       "      <td>3</td>\n",
       "      <td>1</td>\n",
       "      <td>0</td>\n",
       "    </tr>\n",
       "    <tr>\n",
       "      <th>3</th>\n",
       "      <td>4</td>\n",
       "      <td>2</td>\n",
       "      <td>1</td>\n",
       "      <td>5</td>\n",
       "      <td>1</td>\n",
       "    </tr>\n",
       "    <tr>\n",
       "      <th>4</th>\n",
       "      <td>1</td>\n",
       "      <td>3</td>\n",
       "      <td>4</td>\n",
       "      <td>2</td>\n",
       "      <td>0</td>\n",
       "    </tr>\n",
       "    <tr>\n",
       "      <th>5</th>\n",
       "      <td>2</td>\n",
       "      <td>4</td>\n",
       "      <td>5</td>\n",
       "      <td>1</td>\n",
       "      <td>0</td>\n",
       "    </tr>\n",
       "  </tbody>\n",
       "</table>\n",
       "</div>"
      ],
      "text/plain": [
       "   alargue  automóvil  casa  novedoso  categoria\n",
       "0        3          3     1         6          1\n",
       "1        1          4     7         1          0\n",
       "2        1          4     3         1          0\n",
       "3        4          2     1         5          1\n",
       "4        1          3     4         2          0\n",
       "5        2          4     5         1          0"
      ]
     },
     "execution_count": 148,
     "metadata": {},
     "output_type": "execute_result"
    }
   ],
   "source": [
    "import pandas as pd\n",
    "import numpy as np\n",
    "\n",
    "d = {'alargue': np.array([3, 1, 1, 4, 1, 2]),\n",
    "     'automóvil': np.array([3, 4, 4, 2, 3, 4]),\n",
    "     'casa': np.array([1,7,3, 1, 4 ,5 ]),\n",
    "     'novedoso': np.array([6, 1, 1, 5, 2, 1]),\n",
    "     'categoria': np.array([1, 0, 0, 1, 0, 0])}\n",
    "\n",
    "new_d = {'alargue': np.array([4]),\n",
    "         'automóvil': np.array([1]),\n",
    "         'casa': np.array([1]),\n",
    "         'novedoso': np.array([1])}\n",
    "\n",
    "new_df = pd.DataFrame(data=new_d)\n",
    "df = pd.DataFrame(data=d)\n",
    "df"
   ]
  },
  {
   "cell_type": "code",
   "execution_count": 152,
   "metadata": {},
   "outputs": [
    {
     "name": "stdout",
     "output_type": "stream",
     "text": [
      "   alargue  automóvil  casa  novedoso  categoria\n",
      "0        3          3     1         6          1\n",
      "   alargue  automóvil  casa  novedoso  categoria\n",
      "1        1          4     7         1          0\n",
      "   alargue  automóvil  casa  novedoso  categoria\n",
      "2        1          4     3         1          0\n",
      "   alargue  automóvil  casa  novedoso  categoria\n",
      "3        4          2     1         5          1\n",
      "   alargue  automóvil  casa  novedoso  categoria\n",
      "4        1          3     4         2          0\n",
      "   alargue  automóvil  casa  novedoso  categoria\n",
      "5        2          4     5         1          0\n",
      "[0.33333333 0.33333333 0.         0.         0.         0.\n",
      " 0.        ]\n",
      "[0.33333333 1.                nan        nan        nan        nan\n",
      "        nan]\n"
     ]
    },
    {
     "name": "stderr",
     "output_type": "stream",
     "text": [
      "C:\\Users\\joa-m\\Anaconda3\\envs\\redes2\\lib\\site-packages\\ipykernel_launcher.py:39: RuntimeWarning: invalid value encountered in true_divide\n",
      "C:\\Users\\joa-m\\Anaconda3\\envs\\redes2\\lib\\site-packages\\ipykernel_launcher.py:40: RuntimeWarning: invalid value encountered in true_divide\n"
     ]
    }
   ],
   "source": [
    "\n",
    "\n",
    "def get_words(df):\n",
    "    w_list = []\n",
    "    for col in df:\n",
    "        if(col == \"categoria\"):\n",
    "            break\n",
    "        w_list.append(col)\n",
    "    return w_list\n",
    "\n",
    "def get_p_W_s(i):\n",
    "    aux_df = df[i-1:i] # voy hasta el articulo i\n",
    "    p = 1\n",
    "    print(aux_df)\n",
    "    w_tot = \n",
    "    for w in w_list:\n",
    "        w_spam = sum(aux_df[aux_df[\"categoria\"] == 1][w]) # sumo en los de la col w que son spam hasta el articulo i\n",
    "        #w_tot = sum(aux_df[w]) # sumo todos los de la col w hasta el articulo i\n",
    "        p *= w_spam/w_tot # *= P(Xn / Class = 0)\n",
    "    # p = P(X1 / Class = 0) * P(X2 / Class = 0) * ... \n",
    "    return p\n",
    "def get_p_W_dado_s(w_list,df):\n",
    "    # la informacion que tengo es que dada una palabra es spam\n",
    "    # a mi me gustaria saber si es spam dado conjunto palabras\n",
    "    p_spam = sum(df[\"categoria\"])/len(df)\n",
    "    p_s_W = np.array([p_spam]) #\n",
    "    p_n_W = np.array([1-p_spam]) #\n",
    "    #P(class=0|X1,X2) = P(X1|class=0) * P(X2|class=0) * P(class=0)\n",
    "    for i in range(1,len(df)+1):\n",
    "        p = get_p_W_s(i)    \n",
    "        p_s_W = np.append(p_s_W, p_s_W[i-1] * p)\n",
    "        p_n_W = np.append(p_n_W, p_n_W[i-1] * (1-p))\n",
    "    return p_s_W, p_n_W\n",
    "\n",
    "# P(spam/W) = P(W = w / spam = Yes) * P(Yes) / P(W = w)\n",
    "def email_veredict(df):\n",
    "    w_list = get_words(df)\n",
    "    p_s_W, p_n_W = get_p_W_dado_s(w_list, df) # esto que se devuelve es proporcional\n",
    "    print(p_s_W)\n",
    "    # a p(spam = Yes / w1,w2,w3...) y p(spam = No / w1,w2,w3...) \n",
    "    ptot = p_s_W + p_n_W\n",
    "    p_s_W /= ptot\n",
    "    p_n_W /= ptot\n",
    "    print(p_s_W)\n",
    "    ans = []\n",
    "#     for i in range(len(p_s_W)):\n",
    "#         if(p_s_W[i]>p_n_W[i]):\n",
    "#             ans.append(\"Es spam con probabilidad \" + str(p_s_W[i]))\n",
    "#         else:\n",
    "#             ans.append(\"Es ham con probabilidad \" + str(p_n_W[i]))\n",
    "    return ans\n",
    "\n",
    "ans = email_veredict(df)\n",
    "# for i in range(len(ans)):\n",
    "#     print(ans[i])"
   ]
  },
  {
   "cell_type": "code",
   "execution_count": 101,
   "metadata": {},
   "outputs": [
    {
     "name": "stdout",
     "output_type": "stream",
     "text": [
      "[[3 3 1 6]\n",
      " [1 4 7 1]\n",
      " [1 4 3 1]\n",
      " [4 2 1 5]\n",
      " [1 3 4 2]\n",
      " [2 4 5 1]]\n",
      "El nuevo email insertado es: \n",
      "Spam\n"
     ]
    }
   ],
   "source": [
    "def df_to_text(df):\n",
    "    emails_filtrados = []\n",
    "    for index, row in df.iterrows():\n",
    "        text = \"\"\n",
    "        for idx,col in enumerate(df):\n",
    "            if col != \"categoria\":\n",
    "                if(idx<len(d)-1):\n",
    "                    aux_str = col + \" \" \n",
    "                else:\n",
    "                    aux_str = col \n",
    "                text +=aux_str*row[col] # numero\n",
    "        emails_filtrados.append(text)\n",
    "    return emails_filtrados\n",
    "\n",
    "from sklearn.feature_extraction.text import CountVectorizer\n",
    "count_vect = CountVectorizer()\n",
    "raw_data=count_vect.fit_transform(emails_filtrados)\n",
    "\n",
    "print(raw_data.toarray())\n",
    "\n",
    "emails_filtrados = df_to_text(df)\n",
    "email_test = df_to_text(new_df)\n",
    "\n",
    "X_train = raw_data\n",
    "Y_train = df['categoria']\n",
    "\n",
    "X_test  = count_vect.transform(email_test)\n",
    "\n",
    "from sklearn.naive_bayes import MultinomialNB\n",
    "clf = MultinomialNB()\n",
    "clf.fit(X_train.toarray(), Y_train)\n",
    "import numpy as np\n",
    "predict=(np.array(clf.predict(X_test.toarray())))[0]\n",
    "\n",
    "print(\"El nuevo email insertado es: \")\n",
    "if predict:\n",
    "    print(\"Spam\")\n",
    "else:\n",
    "    print(\"Ham\")"
   ]
  },
  {
   "cell_type": "code",
   "execution_count": null,
   "metadata": {},
   "outputs": [],
   "source": []
  }
 ],
 "metadata": {
  "colab": {
   "collapsed_sections": [],
   "name": "NaiveBayes-SPAM/HAM.ipynb",
   "provenance": [],
   "toc_visible": true,
   "version": "0.3.2"
  },
  "kernelspec": {
   "display_name": "redes2 (py 3.6)",
   "language": "python",
   "name": "redes2"
  },
  "language_info": {
   "codemirror_mode": {
    "name": "ipython",
    "version": 3
   },
   "file_extension": ".py",
   "mimetype": "text/x-python",
   "name": "python",
   "nbconvert_exporter": "python",
   "pygments_lexer": "ipython3",
   "version": "3.6.10"
  }
 },
 "nbformat": 4,
 "nbformat_minor": 4
}
