{
 "cells": [
  {
   "cell_type": "markdown",
   "metadata": {
    "colab_type": "text",
    "id": "4XI-bramQQLk"
   },
   "source": [
    "# Spam and ham detection\n"
   ]
  },
  {
   "cell_type": "markdown",
   "metadata": {
    "colab_type": "text",
    "id": "u65YieUTEgR3"
   },
   "source": [
    "Cargamos los datos a un pandas data frame"
   ]
  },
  {
   "cell_type": "code",
   "execution_count": 2,
   "metadata": {
    "colab": {},
    "colab_type": "code",
    "id": "eEd5X8AWNRlP"
   },
   "outputs": [
    {
     "data": {
      "text/html": [
       "<div>\n",
       "<style scoped>\n",
       "    .dataframe tbody tr th:only-of-type {\n",
       "        vertical-align: middle;\n",
       "    }\n",
       "\n",
       "    .dataframe tbody tr th {\n",
       "        vertical-align: top;\n",
       "    }\n",
       "\n",
       "    .dataframe thead th {\n",
       "        text-align: right;\n",
       "    }\n",
       "</style>\n",
       "<table border=\"1\" class=\"dataframe\">\n",
       "  <thead>\n",
       "    <tr style=\"text-align: right;\">\n",
       "      <th></th>\n",
       "      <th>alargue</th>\n",
       "      <th>automóvil</th>\n",
       "      <th>casa</th>\n",
       "      <th>novedoso</th>\n",
       "      <th>categoria</th>\n",
       "    </tr>\n",
       "  </thead>\n",
       "  <tbody>\n",
       "    <tr>\n",
       "      <th>0</th>\n",
       "      <td>3</td>\n",
       "      <td>3</td>\n",
       "      <td>1</td>\n",
       "      <td>6</td>\n",
       "      <td>1</td>\n",
       "    </tr>\n",
       "    <tr>\n",
       "      <th>1</th>\n",
       "      <td>1</td>\n",
       "      <td>4</td>\n",
       "      <td>7</td>\n",
       "      <td>1</td>\n",
       "      <td>0</td>\n",
       "    </tr>\n",
       "    <tr>\n",
       "      <th>2</th>\n",
       "      <td>1</td>\n",
       "      <td>4</td>\n",
       "      <td>3</td>\n",
       "      <td>1</td>\n",
       "      <td>0</td>\n",
       "    </tr>\n",
       "    <tr>\n",
       "      <th>3</th>\n",
       "      <td>4</td>\n",
       "      <td>2</td>\n",
       "      <td>1</td>\n",
       "      <td>5</td>\n",
       "      <td>1</td>\n",
       "    </tr>\n",
       "    <tr>\n",
       "      <th>4</th>\n",
       "      <td>1</td>\n",
       "      <td>3</td>\n",
       "      <td>4</td>\n",
       "      <td>2</td>\n",
       "      <td>0</td>\n",
       "    </tr>\n",
       "    <tr>\n",
       "      <th>5</th>\n",
       "      <td>2</td>\n",
       "      <td>4</td>\n",
       "      <td>5</td>\n",
       "      <td>1</td>\n",
       "      <td>0</td>\n",
       "    </tr>\n",
       "  </tbody>\n",
       "</table>\n",
       "</div>"
      ],
      "text/plain": [
       "   alargue  automóvil  casa  novedoso  categoria\n",
       "0        3          3     1         6          1\n",
       "1        1          4     7         1          0\n",
       "2        1          4     3         1          0\n",
       "3        4          2     1         5          1\n",
       "4        1          3     4         2          0\n",
       "5        2          4     5         1          0"
      ]
     },
     "execution_count": 2,
     "metadata": {},
     "output_type": "execute_result"
    }
   ],
   "source": [
    "import pandas as pd\n",
    "import numpy as np\n",
    "\n",
    "d = {'alargue': np.array([3, 1, 1, 4, 1, 2]),\n",
    "     'automóvil': np.array([3, 4, 4, 2, 3, 4]),\n",
    "     'casa': np.array([1,7,3, 1, 4 ,5 ]),\n",
    "     'novedoso': np.array([6, 1, 1, 5, 2, 1]),\n",
    "     'categoria': np.array([1, 0, 0, 1, 0, 0])}\n",
    "\n",
    "new_d = {'alargue': np.array([4]),\n",
    "         'automóvil': np.array([1]),\n",
    "         'casa': np.array([1]),\n",
    "         'novedoso': np.array([1])}\n",
    "\n",
    "new_df = pd.DataFrame(data=new_d)\n",
    "df = pd.DataFrame(data=d)\n",
    "df"
   ]
  },
  {
   "cell_type": "markdown",
   "metadata": {},
   "source": [
    "## Obtain P(Cat = 1) and P(W= w / Cat = 1)"
   ]
  },
  {
   "cell_type": "code",
   "execution_count": 43,
   "metadata": {},
   "outputs": [
    {
     "name": "stdout",
     "output_type": "stream",
     "text": [
      "   alargue  automóvil  casa  novedoso  categoria\n",
      "0        3          3     1         6          1\n",
      "3        4          2     1         5          1\n",
      "P(Cat = 1)\n",
      "0.36231884057971014\n",
      "P(W=w /  Cat = 1)\n",
      "{'alargue': 0.28, 'automóvil': 0.2, 'casa': 0.08, 'novedoso': 0.44}\n"
     ]
    }
   ],
   "source": [
    "def get_words(df):\n",
    "    w_list = []\n",
    "    for col in df:\n",
    "        if(col == \"categoria\"):\n",
    "            break\n",
    "        w_list.append(col)\n",
    "    return w_list\n",
    "\n",
    "def get_p_w_dado_spam(df,tot_spam):\n",
    "    d = {}\n",
    "    w_list = get_words(df)\n",
    "    for w in w_list:\n",
    "        w_spam = sum(df[df[\"categoria\"] == 1][w]) # sumo en los de la col w que son spam hasta el articulo i\n",
    "        p = w_spam/tot_spam\n",
    "        d[w] = p\n",
    "    return d\n",
    "\n",
    "df_spam = df[df[\"categoria\"] == 1]\n",
    "\n",
    "print(df_spam)\n",
    "numero_de_palabras_spam = df_spam.to_numpy()[:,:-1].sum()\n",
    "numero_de_palabras_total = df.to_numpy()[:,:-1].sum()\n",
    "\n",
    "print(\"P(Cat = 1)\")\n",
    "print(numero_de_palabras_spam/numero_de_palabras_total)\n",
    "print(\"P(W=w /  Cat = 1)\")\n",
    "p_w_dado_spam =get_p_w_dado_spam(df,numero_de_palabras_spam)\n",
    "print(p_w_dado_spam)"
   ]
  },
  {
   "cell_type": "code",
   "execution_count": 3,
   "metadata": {},
   "outputs": [
    {
     "name": "stdout",
     "output_type": "stream",
     "text": [
      "[[3 3 1 6]\n",
      " [1 4 7 1]\n",
      " [1 4 3 1]\n",
      " [4 2 1 5]\n",
      " [1 3 4 2]\n",
      " [2 4 5 1]]\n",
      "[[4 1 1 1]]\n",
      "El nuevo email insertado es: \n",
      "Spam\n",
      "Con probabilidad 0.8581629721475673\n"
     ]
    }
   ],
   "source": [
    "def df_to_text(df):\n",
    "    emails_filtrados = []\n",
    "    for index, row in df.iterrows():\n",
    "        text = \"\"\n",
    "        for idx,col in enumerate(df):\n",
    "            if col != \"categoria\":\n",
    "                if(idx<len(d)-1):\n",
    "                    aux_str = col + \" \" \n",
    "                else:\n",
    "                    aux_str = col \n",
    "                text +=aux_str*row[col] # numero\n",
    "        emails_filtrados.append(text)\n",
    "    return emails_filtrados\n",
    "\n",
    "\n",
    "emails_filtrados = df_to_text(df)\n",
    "email_test = df_to_text(new_df)\n",
    "\n",
    "from sklearn.feature_extraction.text import CountVectorizer\n",
    "count_vect = CountVectorizer()\n",
    "raw_data=count_vect.fit_transform(emails_filtrados)\n",
    "\n",
    "print(raw_data.toarray())\n",
    "\n",
    "\n",
    "X_train = raw_data\n",
    "Y_train = df['categoria']\n",
    "\n",
    "X_test  = count_vect.transform(email_test)\n",
    "\n",
    "from sklearn.naive_bayes import MultinomialNB\n",
    "clf = MultinomialNB()\n",
    "clf.fit(X_train.toarray(), Y_train)\n",
    "import numpy as np\n",
    "\n",
    "print(X_test.toarray())\n",
    "predict=(np.array(clf.predict(X_test.toarray())))[0]\n",
    "\n",
    "print(\"El nuevo email insertado es: \")\n",
    "if predict:\n",
    "    print(\"Spam\")\n",
    "else:\n",
    "    print(\"Ham\")\n",
    "  \n",
    "print(\"Con probabilidad\",clf.predict_proba(X_test.toarray())[0][1])"
   ]
  },
  {
   "cell_type": "code",
   "execution_count": null,
   "metadata": {},
   "outputs": [],
   "source": []
  }
 ],
 "metadata": {
  "colab": {
   "collapsed_sections": [],
   "name": "NaiveBayes-SPAM/HAM.ipynb",
   "provenance": [],
   "toc_visible": true,
   "version": "0.3.2"
  },
  "kernelspec": {
   "display_name": "redes2 (py 3.6)",
   "language": "python",
   "name": "redes2"
  },
  "language_info": {
   "codemirror_mode": {
    "name": "ipython",
    "version": 3
   },
   "file_extension": ".py",
   "mimetype": "text/x-python",
   "name": "python",
   "nbconvert_exporter": "python",
   "pygments_lexer": "ipython3",
   "version": "3.6.10"
  }
 },
 "nbformat": 4,
 "nbformat_minor": 4
}
