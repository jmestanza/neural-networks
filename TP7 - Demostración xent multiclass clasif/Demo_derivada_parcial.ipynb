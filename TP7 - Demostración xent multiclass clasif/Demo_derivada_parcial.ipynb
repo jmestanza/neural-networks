{
  "nbformat": 4,
  "nbformat_minor": 0,
  "metadata": {
    "kernelspec": {
      "display_name": "redes2 (py 3.6)",
      "language": "python",
      "name": "redes2"
    },
    "language_info": {
      "codemirror_mode": {
        "name": "ipython",
        "version": 3
      },
      "file_extension": ".py",
      "mimetype": "text/x-python",
      "name": "python",
      "nbconvert_exporter": "python",
      "pygments_lexer": "ipython3",
      "version": "3.6.10"
    },
    "colab": {
      "name": "Demo derivada parcial.ipynb",
      "provenance": [],
      "collapsed_sections": []
    }
  },
  "cells": [
    {
      "cell_type": "markdown",
      "metadata": {
        "id": "iWNZ4zEjXcdT",
        "colab_type": "text"
      },
      "source": [
        "$$categorical\\_xent=- \\frac{1}{N} \\sum_{i=1}^N \\sum_{l=1}^K d_{i,l}.\\log P(y_i=l|X_i)=- \\frac{1}{N}  \\sum_{i=1}^N \\sum_{l=1}^K d_{i,l}.\\log \\frac{\\exp(h_l)}{\\sum_{m=0}^K{\\exp(h_m)}}$$"
      ]
    },
    {
      "cell_type": "markdown",
      "metadata": {
        "id": "scUKVt5jaLQy",
        "colab_type": "text"
      },
      "source": [
        "donde  di  es el one hot vector de la clase de la observación  i -ésima y  di,l  es la componente  l -ésima de ese one hot vector."
      ]
    },
    {
      "cell_type": "markdown",
      "metadata": {
        "id": "BcqH_UutZNN6",
        "colab_type": "text"
      },
      "source": [
        "$$ \\frac{\\partial categorical\\_xent}{\\partial w_{1,1}} =- \\frac{1}{N} \\sum_{i=1}^N \\sum_{l=1}^K d_{i,l}  \\frac{\\partial }{\\partial w_{1,1}}\\left( \\log \\frac{\\exp(h_l)}{\\sum_{m=0}^K{\\exp(h_m)}} \\right)$$"
      ]
    },
    {
      "cell_type": "markdown",
      "metadata": {
        "id": "ubVSpXgGdIFK",
        "colab_type": "text"
      },
      "source": [
        "$$\\frac{\\partial }{\\partial w_{1,1}}\\left( \\log \\frac{\\exp(h_l)}{\\sum_{m=0}^K{\\exp(h_m)}} \\right) = $$"
      ]
    },
    {
      "cell_type": "markdown",
      "metadata": {
        "id": "BOAqXARoek1L",
        "colab_type": "text"
      },
      "source": [
        "$$ = \\frac{\\sum_{m=0}^K{ \\exp(h_m) } }{\\exp(h_l)} \\cdot \\frac{\n",
        "    \\frac{\\partial}{\\partial  w_{1,1}} \\left( \\exp(h_l) \\right) \\cdot \\sum_{m=0}^K{ \\exp(h_m) } -\\exp(h_l) \\cdot \\frac{\\partial}{ \\partial w_{1,1}}(\\sum_{m=0}^K{ \\exp(h_m) })\n",
        "}{ (\\sum_{m=0}^K{ \\exp(h_m) }) ^2}$$\n",
        "\n"
      ]
    },
    {
      "cell_type": "markdown",
      "metadata": {
        "id": "TCRPse8VgtqT",
        "colab_type": "text"
      },
      "source": [
        "Analicemos las derivadas que nos quedan por separado\n",
        "\n",
        "$$ \\frac{\\partial}{\\partial w_{1,1}} \\left(  \\exp(h_l)\\right) = \\frac{\\partial}{\\partial w_{1,1}} \\left(  \\exp(\\vec \\omega_l^T X + b_l)\\right)    $$"
      ]
    },
    {
      "cell_type": "markdown",
      "metadata": {
        "id": "N1E1CSA8v4SC",
        "colab_type": "text"
      },
      "source": [
        "$$ \\frac{\\partial}{\\partial w_{1,1}} \\left(  \\exp(h_l)\\right) = \\begin{cases} \\exp(h_1)\\cdot x_1  & \\mbox{if } l = 1 \\\\ 0 & \\mbox{otherwise} \\end{cases} $$\n"
      ]
    },
    {
      "cell_type": "markdown",
      "metadata": {
        "id": "z1pDhuqeiWb-",
        "colab_type": "text"
      },
      "source": [
        "$$ \\frac{\\partial}{ \\partial w_{1,1}}(\\sum_{m=0}^K{ \\exp(h_m) }) = \\sum_{m=0}^K{ \\frac{\\partial}{ \\partial w_{1,1}}( \\exp(h_m) )} = \\exp(h_1) \\cdot x_1  $$"
      ]
    },
    {
      "cell_type": "markdown",
      "metadata": {
        "id": "Lu3wV1zJnyGN",
        "colab_type": "text"
      },
      "source": [
        "Finalmente"
      ]
    },
    {
      "cell_type": "markdown",
      "metadata": {
        "id": "61gmhIIx3eFZ",
        "colab_type": "text"
      },
      "source": [
        "$$ \\frac{\\partial categorical\\_xent}{\\partial w_{1,1}}=- \\frac{1}{N} \\sum_{i=1}^N \\sum_{l=1}^K d_{i,l} x_1 \\cdot \\begin{cases}   \\left[ 1- \\frac{\\exp(h_1)}{ \\sum_{m=0}^K{\\exp(h_m)} } \\right]  & \\mbox{if } l = 1 \\\\ \\left[\\frac{\\exp(h_1)}{ \\sum_{m=0}^K{\\exp(h_m)} } \\right] & \\mbox{otherwise} \\end{cases} $$\n"
      ]
    },
    {
      "cell_type": "code",
      "metadata": {
        "id": "rI_M-Dqm3y00",
        "colab_type": "code",
        "colab": {}
      },
      "source": [
        ""
      ],
      "execution_count": 0,
      "outputs": []
    }
  ]
}