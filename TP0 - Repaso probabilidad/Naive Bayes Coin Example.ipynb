{
 "cells": [
  {
   "cell_type": "code",
   "execution_count": 2,
   "metadata": {},
   "outputs": [
    {
     "name": "stdout",
     "output_type": "stream",
     "text": [
      "[0.8 0.1 0.1]\n",
      "[0.81632653 0.04081633 0.14285714]\n",
      "[0.84388186 0.06751055 0.08860759]\n",
      "[0.84817642 0.02714165 0.12468193]\n",
      "[0.82061382 0.01050386 0.16888232]\n",
      "[0.87415644 0.01790272 0.10794084]\n",
      "[0.90345989 0.02960457 0.06693554]\n",
      "[0.8953911  0.01173607 0.09287283]\n",
      "[0.92318591 0.01936061 0.05745348]\n",
      "[0.91281178 0.00765722 0.079531  ]\n",
      "[0.88862512 0.00298173 0.10839314]\n"
     ]
    }
   ],
   "source": [
    "import numpy as np\n",
    "N = 2\n",
    "p_cara = np.array([0.5,0.8, 0.3])\n",
    "p_priori = np.array([0.8, 0.1, 0.1]) # prob de que sea tipo 1\n",
    "\n",
    "#x = np.random.choice(N+1, size= 3, p=p_priori) # agarro una moneda de 0,1,2 con prob 0.1,0.2,0.7\n",
    "moneda = np.random.choice([0,1,2], p =np.ndarray.tolist(p_priori)) # AGARRO UNA MONEDA y depsues la tiro un monton de veces\n",
    "\n",
    "p_post = p_priori.copy()\n",
    "print(p_post)\n",
    "for i in range(10):\n",
    "    #en cada paso actualizo la prob a posteriori\n",
    "    px = p_cara[moneda] # probabilidad de haber agarrado la moneda\n",
    "    lado = np.random.choice([0,1], p=[1-px,px]) # tiro y tiro \n",
    "    if lado: # si sale cara\n",
    "        p_post *= p_cara # p_cara dado el tipo\n",
    "    else:\n",
    "        p_post *= 1-p_cara\n",
    "    norm = np.sum(p_post)\n",
    "    p_post /= norm\n",
    "    print(p_post) # esto es la prob de que sea tipo dado cara\n",
    "\n",
    "# el problema con esto es la probabilidad se puede cagar en el sentido de precision "
   ]
  }
 ],
 "metadata": {
  "kernelspec": {
   "display_name": "Python 3",
   "language": "python",
   "name": "python3"
  },
  "language_info": {
   "codemirror_mode": {
    "name": "ipython",
    "version": 3
   },
   "file_extension": ".py",
   "mimetype": "text/x-python",
   "name": "python",
   "nbconvert_exporter": "python",
   "pygments_lexer": "ipython3",
   "version": "3.8.1"
  }
 },
 "nbformat": 4,
 "nbformat_minor": 4
}
